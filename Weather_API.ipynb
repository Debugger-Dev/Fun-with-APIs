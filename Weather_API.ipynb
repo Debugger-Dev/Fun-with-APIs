{
  "nbformat": 4,
  "nbformat_minor": 0,
  "metadata": {
    "colab": {
      "name": "Weather API",
      "provenance": [],
      "collapsed_sections": [],
      "mount_file_id": "1EBNKmFRVCGYj3zQOOP-SJvXrUREmvJp5",
      "authorship_tag": "ABX9TyO8ogJ0G7eze37oGMCe8Rus",
      "include_colab_link": true
    },
    "kernelspec": {
      "name": "python3",
      "display_name": "Python 3"
    },
    "language_info": {
      "name": "python"
    }
  },
  "cells": [
    {
      "cell_type": "markdown",
      "metadata": {
        "id": "view-in-github",
        "colab_type": "text"
      },
      "source": [
        "<a href=\"https://colab.research.google.com/github/Debugger-Dev/Fun-with-APIs/blob/main/Weather_API.ipynb\" target=\"_parent\"><img src=\"https://colab.research.google.com/assets/colab-badge.svg\" alt=\"Open In Colab\"/></a>"
      ]
    },
    {
      "cell_type": "code",
      "source": [
        "import requests\n",
        "\n",
        "def get_url(city,lang,units='metrics',key=\"70fdebfb234c40804b5a71cb85c34043\"):\n",
        "  url=f\"http://api.openweathermap.org/data/2.5/forecast?q={city}&lang={lang}&appid={key}&units={units}\"\n",
        "  r=requests.get(url)\n",
        "  contents=r.json()\n",
        "  with open('/content/drive/MyDrive/Python Projects/Automation/api.txt', 'a') as file:\n",
        "    for i in contents['list']:\n",
        "      file.write(f\"{i['dt_txt']},{i['main']['temp']},{i['weather'][0]['description']}\\n\")"
      ],
      "metadata": {
        "id": "Ka9tSiIduflm"
      },
      "execution_count": 11,
      "outputs": []
    },
    {
      "cell_type": "code",
      "execution_count": 12,
      "metadata": {
        "id": "UdG8-sQxtOIL"
      },
      "outputs": [],
      "source": [
        "get_url('bhubaneswar','hi')"
      ]
    }
  ]
}